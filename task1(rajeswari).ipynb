{
  "metadata": {
    "kernelspec": {
      "name": "python",
      "display_name": "Python (Pyodide)",
      "language": "python"
    },
    "language_info": {
      "codemirror_mode": {
        "name": "python",
        "version": 3
      },
      "file_extension": ".py",
      "mimetype": "text/x-python",
      "name": "python",
      "nbconvert_exporter": "python",
      "pygments_lexer": "ipython3",
      "version": "3.8"
    }
  },
  "nbformat_minor": 4,
  "nbformat": 4,
  "cells": [
    {
      "cell_type": "code",
      "source": "task1_list = [1,2,3,4,5]\ntask1_list.append(6)\ntask1_list.remove(3)\ntask1_list[0] = 9\nprint(\"updated list:\" , task1_list)",
      "metadata": {
        "trusted": true
      },
      "outputs": [
        {
          "name": "stdout",
          "text": "updated list: [9, 2, 4, 5, 6]\n",
          "output_type": "stream"
        }
      ],
      "execution_count": 2
    },
    {
      "cell_type": "code",
      "source": "#dictionary\ntask1_dict = {'name': 'raji' , 'age': '20', 'city': 'bangalore'}\ntask1_dict['gender'] = 'female'\ndel task1_dict['age']\ntask1_dict['city'] = 'chennai'\nprint(\"updated dictionary:\" , task1_dict)",
      "metadata": {
        "trusted": true
      },
      "outputs": [
        {
          "name": "stdout",
          "text": "updated dictionary: {'name': 'raji', 'city': 'chennai', 'gender': 'female'}\n",
          "output_type": "stream"
        }
      ],
      "execution_count": 3
    },
    {
      "cell_type": "code",
      "source": "#set\ntask_set = {6,7,8,9}\ntask_set.add(10)\ntask_set.remove(6)\ntask_set.discard(8)\ntask_set.add(4)\nprint(\"updated set:\" , task_set)",
      "metadata": {
        "trusted": true
      },
      "outputs": [
        {
          "name": "stdout",
          "text": "updated set: {4, 7, 9, 10}\n",
          "output_type": "stream"
        }
      ],
      "execution_count": 4
    },
    {
      "cell_type": "code",
      "source": "",
      "metadata": {
        "trusted": true
      },
      "outputs": [],
      "execution_count": null
    }
  ]
}